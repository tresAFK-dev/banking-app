{
 "cells": [
  {
   "cell_type": "code",
   "execution_count": null,
   "id": "35482c04-421b-48a5-b290-87e1c8951874",
   "metadata": {},
   "outputs": [
    {
     "name": "stdout",
     "output_type": "stream",
     "text": [
      "\n",
      "Welcome to the Banking App!\n",
      "1. Sign Up\n",
      "2. Log In\n",
      "3. Exit\n"
     ]
    },
    {
     "name": "stdin",
     "output_type": "stream",
     "text": [
      "Choose an option:  1\n",
      "Enter username:  Affan123\n",
      "Enter password:  Affan123\n"
     ]
    },
    {
     "name": "stdout",
     "output_type": "stream",
     "text": [
      "User  Affan123 signed up successfully!\n",
      "\n",
      "Welcome to the Banking App!\n",
      "1. Sign Up\n",
      "2. Log In\n",
      "3. Exit\n"
     ]
    },
    {
     "name": "stdin",
     "output_type": "stream",
     "text": [
      "Choose an option:  2\n",
      "Enter username:  Affan123\n",
      "Enter password:  Affan123\n"
     ]
    },
    {
     "name": "stdout",
     "output_type": "stream",
     "text": [
      "User  Affan123 logged in successfully!\n",
      "\n",
      "1. View Account Info\n",
      "2. Deposit Money\n",
      "3. Withdraw Money\n",
      "4. Transfer Money\n",
      "5. View Transaction History\n",
      "6. Log Out\n"
     ]
    },
    {
     "name": "stdin",
     "output_type": "stream",
     "text": [
      "Choose an action:  2\n",
      "Enter amount to deposit:  400\n"
     ]
    },
    {
     "name": "stdout",
     "output_type": "stream",
     "text": [
      "Deposited: $400.0\n",
      "\n",
      "1. View Account Info\n",
      "2. Deposit Money\n",
      "3. Withdraw Money\n",
      "4. Transfer Money\n",
      "5. View Transaction History\n",
      "6. Log Out\n"
     ]
    },
    {
     "name": "stdin",
     "output_type": "stream",
     "text": [
      "Choose an action:  5\n"
     ]
    },
    {
     "name": "stdout",
     "output_type": "stream",
     "text": [
      "Transaction History:\n",
      "Deposited: $400.0\n",
      "\n",
      "1. View Account Info\n",
      "2. Deposit Money\n",
      "3. Withdraw Money\n",
      "4. Transfer Money\n",
      "5. View Transaction History\n",
      "6. Log Out\n"
     ]
    },
    {
     "name": "stdin",
     "output_type": "stream",
     "text": [
      "Choose an action:  1\n"
     ]
    },
    {
     "name": "stdout",
     "output_type": "stream",
     "text": [
      "Account Number: ACCn123\n",
      "Available Balance: $400.0\n",
      "Transaction History:\n",
      "Deposited: $400.0\n",
      "\n",
      "1. View Account Info\n",
      "2. Deposit Money\n",
      "3. Withdraw Money\n",
      "4. Transfer Money\n",
      "5. View Transaction History\n",
      "6. Log Out\n"
     ]
    }
   ],
   "source": [
    "class User:\n",
    "    def __init__(self, username, password):\n",
    "        self.username = username\n",
    "        self.password = password\n",
    "        self.balance = 0.0\n",
    "        self.account_number = f\"ACC{username[-4:]}\"\n",
    "        self.transaction_history = []\n",
    "\n",
    "    def deposit(self, amount):\n",
    "        self.balance += amount\n",
    "        self.transaction_history.append(f\"Deposited: ${amount}\")\n",
    "\n",
    "    def withdraw(self, amount):\n",
    "        if amount > self.balance:\n",
    "            print(\"Insufficient funds!\")\n",
    "        else:\n",
    "            self.balance -= amount\n",
    "            self.transaction_history.append(f\"Withdrew: ${amount}\")\n",
    "\n",
    "    def transfer(self, amount, recipient):\n",
    "        if amount > self.balance:\n",
    "            print(\"Insufficient funds!\")\n",
    "        else:\n",
    "            self.balance -= amount\n",
    "            recipient.balance += amount\n",
    "            self.transaction_history.append(f\"Transferred: ${amount} to {recipient.username}\")\n",
    "            recipient.transaction_history.append(f\"Received: ${amount} from {self.username}\")\n",
    "\n",
    "    def get_account_info(self):\n",
    "        return {\n",
    "            \"username\": self.username,\n",
    "            \"account_number\": self.account_number,\n",
    "            \"balance\": self.balance,\n",
    "            \"transaction_history\": self.transaction_history\n",
    "        }\n",
    "\n",
    "\n",
    "class BankingApp:\n",
    "    def __init__(self):\n",
    "        self.users = {}\n",
    "\n",
    "    def signup(self, username, password):\n",
    "        if username in self.users:\n",
    "            print(\"Username already exists!\")\n",
    "            return None\n",
    "        user = User(username, password)\n",
    "        self.users[username] = user\n",
    "        print(f\"User  {username} signed up successfully!\")\n",
    "        return user\n",
    "\n",
    "    def login(self, username, password):\n",
    "        user = self.users.get(username)\n",
    "        if user and user.password == password:\n",
    "            print(f\"User  {username} logged in successfully!\")\n",
    "            return user\n",
    "        else:\n",
    "            print(\"Invalid username or password!\")\n",
    "            return None\n",
    "\n",
    "    def list_users(self):\n",
    "        return [user.username for user in self.users.values()]\n",
    "\n",
    "\n",
    "def main():\n",
    "    app = BankingApp()\n",
    "\n",
    "    while True:\n",
    "        print(\"\\nWelcome to the Banking App!\")\n",
    "        print(\"1. Sign Up\")\n",
    "        print(\"2. Log In\")\n",
    "        print(\"3. Exit\")\n",
    "        choice = input(\"Choose an option: \")\n",
    "\n",
    "        if choice == '1':\n",
    "            username = input(\"Enter username: \")\n",
    "            password = input(\"Enter password: \")\n",
    "            app.signup(username, password)\n",
    "\n",
    "        elif choice == '2':\n",
    "            username = input(\"Enter username: \")\n",
    "            password = input(\"Enter password: \")\n",
    "            user = app.login(username, password)\n",
    "\n",
    "            if user:\n",
    "                while True:\n",
    "                    print(\"\\n1. View Account Info\")\n",
    "                    print(\"2. Deposit Money\")\n",
    "                    print(\"3. Withdraw Money\")\n",
    "                    print(\"4. Transfer Money\")\n",
    "                    print(\"5. View Transaction History\")\n",
    "                    print(\"6. Log Out\")\n",
    "                    action = input(\"Choose an action: \")\n",
    "\n",
    "                    if action == '1':\n",
    "                        info = user.get_account_info()\n",
    "                        print(f\"Account Number: {info['account_number']}\")\n",
    "                        print(f\"Available Balance: ${info['balance']}\")\n",
    "                        print(\"Transaction History:\")\n",
    "                        for transaction in info['transaction_history']:\n",
    "                            print(transaction)\n",
    "\n",
    "                    elif action == '2':\n",
    "                        amount = float(input(\"Enter amount to deposit: \"))\n",
    "                        user.deposit(amount)\n",
    "                        print(f\"Deposited: ${amount}\")\n",
    "\n",
    "                    elif action == '3':\n",
    "                        amount = float(input(\"Enter amount to withdraw: \"))\n",
    "                        user.withdraw(amount)\n",
    "\n",
    "                    elif action == '4':\n",
    "                        print(\"Available users to transfer:\")\n",
    "                        for u in app.list_users():\n",
    "                            if u != user.username:\n",
    "                                print(u)\n",
    "                        recipient_username = input(\"Enter recipient username: \")\n",
    "                        recipient = app.users.get(recipient_username)\n",
    "                        if recipient:\n",
    "                            amount = float(input(\"Enter amount to transfer: \"))\n",
    "                            user.transfer(amount, recipient)\n",
    "                        else:\n",
    "                            print(\"Recipient not found!\")\n",
    "\n",
    "                    elif action == '5':\n",
    "                        print(\"Transaction History:\")\n",
    "                        for transaction in user.transaction_history:\n",
    "                            print(transaction)\n",
    "\n",
    "                    elif action == '6':\n",
    "                        print(f\"User  {user.username} logged out.\")\n",
    "                        break\n",
    "\n",
    "                    else:\n",
    "                        print(\"Invalid action!\")\n",
    "\n",
    "        elif choice == '3':\n",
    "            print(\"Exiting the Banking App. Goodbye!\")\n",
    "            break\n",
    "\n",
    "        else:\n",
    "            print(\"Invalid choice! Please try again.\")\n",
    "\n",
    "\n",
    "if __name__ == \"__main__\":\n",
    "    main()"
   ]
  },
  {
   "cell_type": "code",
   "execution_count": null,
   "id": "ac3eb609-22aa-4833-90ff-f27f20f18d0e",
   "metadata": {},
   "outputs": [],
   "source": []
  }
 ],
 "metadata": {
  "kernelspec": {
   "display_name": "Python 3 (ipykernel)",
   "language": "python",
   "name": "python3"
  },
  "language_info": {
   "codemirror_mode": {
    "name": "ipython",
    "version": 3
   },
   "file_extension": ".py",
   "mimetype": "text/x-python",
   "name": "python",
   "nbconvert_exporter": "python",
   "pygments_lexer": "ipython3",
   "version": "3.12.7"
  }
 },
 "nbformat": 4,
 "nbformat_minor": 5
}
